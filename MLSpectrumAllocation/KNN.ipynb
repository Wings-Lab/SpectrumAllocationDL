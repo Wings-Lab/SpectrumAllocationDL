{
 "cells": [
  {
   "cell_type": "code",
   "execution_count": 3,
   "metadata": {},
   "outputs": [],
   "source": [
    "from sklearn.datasets import load_iris\n",
    "from sklearn.neighbors import KNeighborsClassifier, KNeighborsRegressor\n",
    "from sklearn import metrics\n",
    "from sklearn.model_selection import *\n",
    "import numpy as np\n",
    "import matplotlib.pyplot as plt\n",
    "import pandas as pd"
   ]
  },
  {
   "cell_type": "code",
   "execution_count": null,
   "metadata": {},
   "outputs": [],
   "source": [
    "# LOAD DATA\n",
    "dataframe = pd.read_csv('ML\\data\\dynamic_pus_power_fixed_using_pus50000_15PUs_201912_2712_42_200_2.txt', delimiter=',', header=None)\n",
    "dataframe_max = pd.read_csv('ML\\data\\dynamic_pus_power_fixed_max_power50000_15PUs_201912_2712_42_200.txt', delimiter=',', header=None)\n",
    "\n",
    "dataframe.reset_index(drop=True, inplace=True)\n",
    "dataframe_max.reset_index(drop=True, inplace=True)\n",
    "\n",
    "dataframe_tot = pd.concat([dataframe, dataframe_max.iloc[:, dataframe_max.columns.values[-1]]], axis=1,\n",
    "                        ignore_index=True)\n",
    "idx = dataframe_tot[dataframe_tot[dataframe_tot.columns[-1]] == -float('inf')].index\n",
    "dataframe_tot.drop(idx, inplace=True)\n",
    "\n",
    "data_reg = np.concatenate((dataframe_tot.values[:, 0:dataframe_tot.shape[1]-3], \n",
    "                           dataframe_tot.values[:, dataframe_tot.shape[1]-1:dataframe_tot.shape[1]]), axis=1)\n",
    "data_class = dataframe_tot.values[:, 0:dataframe_tot.shape[1]-1]\n",
    "y_class_power = dataframe_tot.values[:, -1]\n",
    "del dataframe, dataframe_max"
   ]
  },
  {
   "cell_type": "code",
   "execution_count": null,
   "metadata": {},
   "outputs": [],
   "source": [
    "normalized = True\n",
    "m = len(data)\n",
    "n = len(data[0])\n",
    "X, y = [], []\n",
    "for d in data:\n",
    "    X.append(d[:n-1])\n",
    "    y.append(float(d[-1]))\n",
    "del data\n",
    "X = np.asarray(X)\n",
    "X = X.astype(int)\n",
    "y = np.asarray(y)"
   ]
  },
  {
   "cell_type": "code",
   "execution_count": null,
   "metadata": {},
   "outputs": [],
   "source": [
    "training_samples = []\n",
    "test_samples = 40000"
   ]
  },
  {
   "cell_type": "code",
   "execution_count": null,
   "metadata": {},
   "outputs": [],
   "source": [
    "k = 1\n",
    "total_accuracy = []\n",
    "total_f1_score = []\n",
    "total_fp = []\n",
    "accuracy = []\n",
    "f1_score = []\n",
    "fp = []\n",
    "for i_train, training_sample in enumerate(training_samples):\n",
    "    X_train, X_test, y_train, y_test = train_test_split(X, y, test_size=0.8511, random_state=4)\n",
    "    if normalized:\n",
    "        mu = np.mean(X_train[:training_sample], axis=0)\n",
    "        std = np.std(X_train[:training_sample], axis=0)\n",
    "        X_train = (X_train[:training_sample] - mu) / std\n",
    "        X_test = (X_test[:test_samples] - mu) / std\n",
    "    knn = KNeighborsClassifier(n_neighbors=k)\n",
    "    knn.fit(X_train[:training_sample], y_train[:training_sample])\n",
    "    y_pred = knn.predict(X_test[:test_samples]) # test_samples[i_train]\n",
    "    accuracy.append(round(metrics.accuracy_score(y_test[:test_samples], y_pred)*100, 2))\n",
    "    f1_score.append(round(metrics.f1_score(y_test[:test_samples], y_pred)*100, 2))\n",
    "    idx = y_test[:test_samples]==1\n",
    "    fp.append(sum(y_pred) - sum(y_pred[idx]))\n",
    "total_accuracy.append(accuracy)\n",
    "total_f1_score.append(f1_score)\n",
    "total_fp.append(fp)"
   ]
  },
  {
   "cell_type": "code",
   "execution_count": null,
   "metadata": {},
   "outputs": [],
   "source": [
    "k = 4\n",
    "accuracy = []\n",
    "f1_score = []\n",
    "fp = []\n",
    "for i_train, training_sample in enumerate(training_samples):\n",
    "    X_train, X_test, y_train, y_test = train_test_split(X, y, test_size=0.8511, random_state=4)\n",
    "    if normalized:\n",
    "        mu = np.mean(X_train[:training_sample], axis=0)\n",
    "        std = np.std(X_train[:training_sample], axis=0)\n",
    "        X_train = (X_train[:training_sample] - mu) / std\n",
    "        X_test = (X_test[:test_samples] - mu) / std\n",
    "    knn = KNeighborsClassifier(n_neighbors=k)\n",
    "    knn.fit(X_train[:training_sample], y_train[:training_sample])\n",
    "    y_pred = knn.predict(X_test[:test_samples])\n",
    "    accuracy.append(round(metrics.accuracy_score(y_test[:test_samples], y_pred)*100, 2))\n",
    "    f1_score.append(round(metrics.f1_score(y_test[:test_samples], y_pred)*100, 2))\n",
    "    idx = y_test[:test_samples]==1\n",
    "    fp.append(sum(y_pred) - sum(y_pred[idx]))  \n",
    "total_accuracy.append(accuracy)\n",
    "total_f1_score.append(f1_score)\n",
    "total_fp.append(fp)"
   ]
  },
  {
   "cell_type": "code",
   "execution_count": null,
   "metadata": {},
   "outputs": [],
   "source": [
    "# KNN regression\n",
    "k = 4\n",
    "average_reg_diff_power, best_c_reg_lst, fp_mean_power = [], [], []\n",
    "for i_train, training_sample in enumerate(training_samples):\n",
    "    X_train, X_test, y_train, y_test = train_test_split(X, y, test_size=0.8511, random_state=4)\n",
    "    if False:\n",
    "        mu = np.mean(X_train[:training_sample], axis=0)\n",
    "        std = np.std(X_train[:training_sample], axis=0)\n",
    "        X_train = (X_train[:training_sample] - mu) / std\n",
    "        X_test = (X_test - mu) / std\n",
    "    knn = KNeighborsRegressor(n_neighbors=k, weights='distance')\n",
    "    knn.fit(X_train[:training_sample], y_train[:training_sample])\n",
    "    y_pred = knn.predict(X_test)\n",
    "    \n",
    "    #evaluating\n",
    "    average_reg_diff_power.append(round(np.mean(np.absolute(y_test - y_pred)), 3))\n",
    "    fp_samples = np.zeros(len(y_test), dtype=float)\n",
    "    fp_samples[y_pred > y_test] = (y_pred - y_test)[y_pred > y_test]\n",
    "    fp_mean_power.append(round(np.mean(fp_samples), 3))\n",
    "    print('Number_samples: ', training_sample, ' error: ', average_reg_diff_power[-1], ', fp_error:', fp_mean_power[-1])"
   ]
  },
  {
   "cell_type": "code",
   "execution_count": null,
   "metadata": {
    "scrolled": false
   },
   "outputs": [],
   "source": [
    "plt.figure(figsize=(15,8))\n",
    "plt.plot(training_samples, total_accuracy[0])\n",
    "plt.plot(training_samples, total_accuracy[1], 'r--')\n",
    "plt.plot(training_samples, total_accuracy[2], 'g.-')\n",
    "plt.plot(training_samples, total_accuracy[3], 'y->')\n",
    "plt.xlabel('# training samples')\n",
    "plt.ylabel('Percent(%)')\n",
    "plt.title('Accuracy of prediction')\n",
    "plt.grid(True)\n",
    "# plt.text(40, 50, '# Validation = 34k')\n",
    "# plt.text(400, 45, '# Test = 34k')\n",
    "plt.legend(['1-NN', '4-NN', 'LR', 'NN'])\n",
    "plt.savefig('ML\\\\results\\\\changing_training_test34k_4kx4k_smallVal_compare_dynamicPUS.png')"
   ]
  },
  {
   "cell_type": "code",
   "execution_count": null,
   "metadata": {
    "scrolled": false
   },
   "outputs": [],
   "source": [
    "plt.figure(figsize=(15,8))\n",
    "plt.plot(training_samples, total_fp[0])\n",
    "plt.plot(training_samples, total_fp[1], 'r--')\n",
    "plt.plot(training_samples, total_fp[2], 'g.-')\n",
    "plt.plot(training_samples, total_fp[3], 'y->')\n",
    "plt.xlabel('# training samples')\n",
    "plt.ylabel('#')\n",
    "plt.title('False Positive')\n",
    "plt.grid(True)\n",
    "# plt.text(175, 300, '# Validation = 34k')\n",
    "# plt.text(175, 10, '# Test = 34k')\n",
    "plt.legend(['1-NN', '4-NN', 'LR', 'NN'])\n",
    "plt.savefig('ML\\\\results\\\\changing_training_test34k_4kx4k_smallVal_compare_dynamicPUS_FP.png')"
   ]
  }
 ],
 "metadata": {
  "kernelspec": {
   "display_name": "Python 3",
   "language": "python",
   "name": "python3"
  },
  "language_info": {
   "codemirror_mode": {
    "name": "ipython",
    "version": 3
   },
   "file_extension": ".py",
   "mimetype": "text/x-python",
   "name": "python",
   "nbconvert_exporter": "python",
   "pygments_lexer": "ipython3",
   "version": "3.7.3"
  }
 },
 "nbformat": 4,
 "nbformat_minor": 1
}
